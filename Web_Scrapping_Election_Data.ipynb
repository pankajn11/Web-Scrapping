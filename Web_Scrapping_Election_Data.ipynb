{
 "cells": [
  {
   "cell_type": "code",
   "execution_count": 1,
   "id": "966e7d34-c6d8-4b30-9ae4-48695a590d31",
   "metadata": {},
   "outputs": [],
   "source": [
    "import pandas as pd\n",
    "from bs4 import BeautifulSoup\n",
    "from selenium.webdriver.common.by import By\n",
    "import time\n",
    "from selenium import webdriver\n",
    "import pandas as pd\n",
    "import re\n",
    "from selenium.webdriver.common.by import By\n",
    "from selenium.webdriver.support.ui import WebDriverWait\n",
    "from selenium.webdriver.support import expected_conditions as EC\n",
    "from selenium.common.exceptions import NoSuchElementException, ElementClickInterceptedException\n",
    "from matplotlib import pyplot as plt"
   ]
  },
  {
   "cell_type": "code",
   "execution_count": 2,
   "id": "369e427e-d80e-4662-aee7-73a69f882ad5",
   "metadata": {},
   "outputs": [],
   "source": [
    "from selenium import webdriver\n",
    "\n",
    "# Set up the Selenium WebDriver (you'll need to install ChromeDriver or other browser drivers)\n",
    "driver = webdriver.Chrome()\n",
    "driver.maximize_window()\n",
    "url = \"https://results.eci.gov.in/AcResultGenOct2024/index.htm\"\n",
    "driver.get(url)\n",
    "driver.implicitly_wait(3)\n",
    "#haryana = driver.find_element(By.XPATH,\"//h2[@class='state-title'  and text()='Haryana']/parent::*\" )\n",
    "haryana=driver.find_element(By.XPATH,\"//h2[@class='state-title'  and contains(text(),'Jammu')]/parent::*\")\n",
    "haryana.click()"
   ]
  },
  {
   "cell_type": "code",
   "execution_count": 3,
   "id": "e3ebe83e-2205-46d4-bc23-b1a4884853bd",
   "metadata": {},
   "outputs": [],
   "source": [
    "# Scroll the page\n",
    "driver.implicitly_wait(3)\n",
    "last_height = driver.execute_script(\"return document.body.scrollHeight\")\n",
    "\n",
    "while True:\n",
    "    driver.execute_script(\"window.scrollTo(0, document.body.scrollHeight);\")\n",
    "    time.sleep(2)  # Wait for new content to load\n",
    "    new_height = driver.execute_script(\"return document.body.scrollHeight\")\n",
    "    \n",
    "    if new_height == last_height:  # Break if no more content is loaded\n",
    "        break\n",
    "    last_height = new_height\n"
   ]
  },
  {
   "cell_type": "code",
   "execution_count": 5,
   "id": "15e289cf-16b5-4f75-8e71-8ae614a7d498",
   "metadata": {},
   "outputs": [],
   "source": [
    "btn=driver.find_element(By.XPATH,\"//a[contains(text(), 'Constituencies')]\")\n",
    "btn.click()"
   ]
  },
  {
   "cell_type": "code",
   "execution_count": 7,
   "id": "198a8a47-e373-4a9a-8371-8fdead224f9d",
   "metadata": {},
   "outputs": [],
   "source": [
    "#  Fecth the header of the table\n",
    "\n",
    "headers_elements =driver.find_elements(By.XPATH,\"//th[contains(text(), 'Constituencies')]/parent::tr/following-sibling::tr/child::th\")\n",
    "headers=[]\n",
    "for h in headers_elements:\n",
    "    #print(h.text)\n",
    "    headers.append(h.text)"
   ]
  },
  {
   "cell_type": "code",
   "execution_count": 8,
   "id": "7b7eae48-7d3e-4eb6-ba6c-8fbae1e93b07",
   "metadata": {},
   "outputs": [
    {
     "data": {
      "text/plain": [
       "['1', '2', '3', '4', '5']"
      ]
     },
     "execution_count": 8,
     "metadata": {},
     "output_type": "execute_result"
    }
   ],
   "source": [
    "# total pages \n",
    "pages = driver.find_element(By.XPATH,'//ul[@class=\"pagination pagination-sm\"]').text\n",
    "pages_lst = re.findall(r'\\d',pages)\n",
    "pages_lst"
   ]
  },
  {
   "cell_type": "code",
   "execution_count": 13,
   "id": "53c1a78d-44fd-44cc-bdea-ef63686478a7",
   "metadata": {},
   "outputs": [],
   "source": [
    "# This function will fetch the details of candidtes from the table and returns a list of lists for a 'single page'\n",
    "def get_candiates_list():\n",
    "    elements = driver.find_elements(By.XPATH,\"//tfoot/preceding-sibling::tbody/tr\")\n",
    "    candidates=[]\n",
    "    for ele in elements:\n",
    "        candidates_info=[]\n",
    "        for e in ele.find_elements(By.XPATH,'./td'):\n",
    "            candidates_info.append(e.text)\n",
    "        candidates.append(candidates_info)\n",
    "    return candidates"
   ]
  },
  {
   "cell_type": "code",
   "execution_count": 15,
   "id": "b10bd8d0-e01e-40c0-96c2-7cf791b9ff68",
   "metadata": {},
   "outputs": [],
   "source": [
    "candidates_data=[]"
   ]
  },
  {
   "cell_type": "code",
   "execution_count": 17,
   "id": "943a795b-2997-4f32-ab8f-fabed23eff6c",
   "metadata": {},
   "outputs": [],
   "source": [
    "candidates_data = get_candiates_list()"
   ]
  },
  {
   "cell_type": "code",
   "execution_count": 19,
   "id": "42dc349f-abce-4489-bb54-a1046924a4f8",
   "metadata": {},
   "outputs": [],
   "source": [
    "#candidates_data"
   ]
  },
  {
   "cell_type": "code",
   "execution_count": 18,
   "id": "31449f32-b5dd-49bc-9378-547d96287e4c",
   "metadata": {},
   "outputs": [
    {
     "name": "stdout",
     "output_type": "stream",
     "text": [
      "https://results.eci.gov.in/AcResultGenOct2024/statewiseU082.htm\n",
      "https://results.eci.gov.in/AcResultGenOct2024/statewiseU083.htm\n",
      "https://results.eci.gov.in/AcResultGenOct2024/statewiseU084.htm\n",
      "https://results.eci.gov.in/AcResultGenOct2024/statewiseU085.htm\n"
     ]
    }
   ],
   "source": [
    "for i in pages_lst[1:]:\n",
    "    try:    \n",
    "        # Attempt to find the hyperlink\n",
    "        hyperlink = driver.find_element(By.XPATH, \"//li[@class='page-item active']/following-sibling::li[1]/a\")\n",
    "        # Get the URL from the hyperlink\n",
    "        url = hyperlink.get_attribute(\"href\")\n",
    "        # Print the URL\n",
    "        print(url)\n",
    "        driver.get(url)\n",
    "        candidates_data.extend(get_candiates_list())\n",
    "    except NoSuchElementException:\n",
    "        print(\"The hyperlink was not found.\")"
   ]
  },
  {
   "cell_type": "code",
   "execution_count": 20,
   "id": "55433b02-33e7-4691-99d7-5914338742e7",
   "metadata": {},
   "outputs": [
    {
     "data": {
      "text/plain": [
       "90"
      ]
     },
     "execution_count": 20,
     "metadata": {},
     "output_type": "execute_result"
    }
   ],
   "source": [
    "len(candidates_data)"
   ]
  },
  {
   "cell_type": "code",
   "execution_count": 23,
   "id": "f0b61232-920b-4d59-9b7a-ee5891657591",
   "metadata": {},
   "outputs": [],
   "source": [
    "df = pd.DataFrame(data=candidates_data,columns = headers)"
   ]
  },
  {
   "cell_type": "code",
   "execution_count": null,
   "id": "136ce9fb-576c-4dd8-9723-b8543c01f4e6",
   "metadata": {},
   "outputs": [],
   "source": []
  },
  {
   "cell_type": "code",
   "execution_count": 25,
   "id": "545dcdc0-f7f0-43d8-a8d7-f4b36013c00e",
   "metadata": {},
   "outputs": [
    {
     "data": {
      "text/html": [
       "<div>\n",
       "<style scoped>\n",
       "    .dataframe tbody tr th:only-of-type {\n",
       "        vertical-align: middle;\n",
       "    }\n",
       "\n",
       "    .dataframe tbody tr th {\n",
       "        vertical-align: top;\n",
       "    }\n",
       "\n",
       "    .dataframe thead th {\n",
       "        text-align: right;\n",
       "    }\n",
       "</style>\n",
       "<table border=\"1\" class=\"dataframe\">\n",
       "  <thead>\n",
       "    <tr style=\"text-align: right;\">\n",
       "      <th></th>\n",
       "      <th>Constituency</th>\n",
       "      <th>Const. No.</th>\n",
       "      <th>Leading Candidate</th>\n",
       "      <th>Leading Party</th>\n",
       "      <th>Trailing Candidate</th>\n",
       "      <th>Trailing Party</th>\n",
       "      <th>Margin</th>\n",
       "      <th>Round</th>\n",
       "      <th>Status</th>\n",
       "    </tr>\n",
       "  </thead>\n",
       "  <tbody>\n",
       "    <tr>\n",
       "      <th>0</th>\n",
       "      <td>AKHNOOR(SC)</td>\n",
       "      <td>81</td>\n",
       "      <td>MOHAN LAL</td>\n",
       "      <td>Bharatiya Janata Party\\ni</td>\n",
       "      <td>ASHOK KUMAR</td>\n",
       "      <td>Indian National Congress\\ni</td>\n",
       "      <td>24679</td>\n",
       "      <td>15/15</td>\n",
       "      <td>Result Declared</td>\n",
       "    </tr>\n",
       "    <tr>\n",
       "      <th>1</th>\n",
       "      <td>ANANTNAG</td>\n",
       "      <td>44</td>\n",
       "      <td>PEERZADA MOHAMMAD SYED</td>\n",
       "      <td>Indian National Congress\\ni</td>\n",
       "      <td>MEHBOOB BEG</td>\n",
       "      <td>Jammu &amp; Kashmir Peoples Democratic Party\\ni</td>\n",
       "      <td>1686</td>\n",
       "      <td>9/9</td>\n",
       "      <td>Result Declared</td>\n",
       "    </tr>\n",
       "    <tr>\n",
       "      <th>2</th>\n",
       "      <td>ANANTNAG WEST</td>\n",
       "      <td>43</td>\n",
       "      <td>ABDUL MAJEED BHAT</td>\n",
       "      <td>Jammu &amp; Kashmir National Conference\\ni</td>\n",
       "      <td>ABDUL GAFFAR SOFI</td>\n",
       "      <td>Jammu &amp; Kashmir Peoples Democratic Party\\ni</td>\n",
       "      <td>10435</td>\n",
       "      <td>14/14</td>\n",
       "      <td>Result Declared</td>\n",
       "    </tr>\n",
       "    <tr>\n",
       "      <th>3</th>\n",
       "      <td>BAHU</td>\n",
       "      <td>75</td>\n",
       "      <td>VIKRAM RANDHAWA</td>\n",
       "      <td>Bharatiya Janata Party\\ni</td>\n",
       "      <td>TARANJIT SINGH TONY</td>\n",
       "      <td>Indian National Congress\\ni</td>\n",
       "      <td>11251</td>\n",
       "      <td>18/18</td>\n",
       "      <td>Result Declared</td>\n",
       "    </tr>\n",
       "    <tr>\n",
       "      <th>4</th>\n",
       "      <td>BANDIPORA</td>\n",
       "      <td>15</td>\n",
       "      <td>NIZAM UDDIN BHAT</td>\n",
       "      <td>Indian National Congress\\ni</td>\n",
       "      <td>USMAN ABDUL MAJID</td>\n",
       "      <td>Independent\\ni</td>\n",
       "      <td>811</td>\n",
       "      <td>12/12</td>\n",
       "      <td>Result Declared</td>\n",
       "    </tr>\n",
       "  </tbody>\n",
       "</table>\n",
       "</div>"
      ],
      "text/plain": [
       "    Constituency Const. No.       Leading Candidate  \\\n",
       "0    AKHNOOR(SC)         81               MOHAN LAL   \n",
       "1       ANANTNAG         44  PEERZADA MOHAMMAD SYED   \n",
       "2  ANANTNAG WEST         43       ABDUL MAJEED BHAT   \n",
       "3           BAHU         75         VIKRAM RANDHAWA   \n",
       "4      BANDIPORA         15        NIZAM UDDIN BHAT   \n",
       "\n",
       "                            Leading Party   Trailing Candidate  \\\n",
       "0               Bharatiya Janata Party\\ni          ASHOK KUMAR   \n",
       "1             Indian National Congress\\ni          MEHBOOB BEG   \n",
       "2  Jammu & Kashmir National Conference\\ni    ABDUL GAFFAR SOFI   \n",
       "3               Bharatiya Janata Party\\ni  TARANJIT SINGH TONY   \n",
       "4             Indian National Congress\\ni    USMAN ABDUL MAJID   \n",
       "\n",
       "                                Trailing Party Margin  Round           Status  \n",
       "0                  Indian National Congress\\ni  24679  15/15  Result Declared  \n",
       "1  Jammu & Kashmir Peoples Democratic Party\\ni   1686    9/9  Result Declared  \n",
       "2  Jammu & Kashmir Peoples Democratic Party\\ni  10435  14/14  Result Declared  \n",
       "3                  Indian National Congress\\ni  11251  18/18  Result Declared  \n",
       "4                               Independent\\ni    811  12/12  Result Declared  "
      ]
     },
     "execution_count": 25,
     "metadata": {},
     "output_type": "execute_result"
    }
   ],
   "source": [
    "df.head()"
   ]
  },
  {
   "cell_type": "code",
   "execution_count": 29,
   "id": "fb3154a2-f2cb-47c3-b9c7-7f2daab2eff8",
   "metadata": {},
   "outputs": [
    {
     "data": {
      "text/plain": [
       "Index(['Constituency', 'Const. No.', 'Leading Candidate', 'Leading Party',\n",
       "       'Trailing Candidate', 'Trailing Party', 'Margin', 'Round', 'Status'],\n",
       "      dtype='object')"
      ]
     },
     "execution_count": 29,
     "metadata": {},
     "output_type": "execute_result"
    }
   ],
   "source": [
    "df.columns"
   ]
  },
  {
   "cell_type": "code",
   "execution_count": 41,
   "id": "e1139621-e73b-4b09-ade5-584455ce1a4b",
   "metadata": {},
   "outputs": [],
   "source": [
    "columns = []\n",
    "for col in df.columns:\n",
    "    col = col.lower().replace(' ','_').replace('.','')\n",
    "    columns.append(col)"
   ]
  },
  {
   "cell_type": "code",
   "execution_count": 43,
   "id": "3266121e-e87d-4cb8-b7a0-504d117b67c6",
   "metadata": {},
   "outputs": [],
   "source": [
    "df.columns= columns"
   ]
  },
  {
   "cell_type": "code",
   "execution_count": 45,
   "id": "e13a6026-d232-4f6e-83b7-305da021b165",
   "metadata": {},
   "outputs": [
    {
     "data": {
      "text/html": [
       "<div>\n",
       "<style scoped>\n",
       "    .dataframe tbody tr th:only-of-type {\n",
       "        vertical-align: middle;\n",
       "    }\n",
       "\n",
       "    .dataframe tbody tr th {\n",
       "        vertical-align: top;\n",
       "    }\n",
       "\n",
       "    .dataframe thead th {\n",
       "        text-align: right;\n",
       "    }\n",
       "</style>\n",
       "<table border=\"1\" class=\"dataframe\">\n",
       "  <thead>\n",
       "    <tr style=\"text-align: right;\">\n",
       "      <th></th>\n",
       "      <th>constituency</th>\n",
       "      <th>const_no</th>\n",
       "      <th>leading_candidate</th>\n",
       "      <th>leading_party</th>\n",
       "      <th>trailing_candidate</th>\n",
       "      <th>trailing_party</th>\n",
       "      <th>margin</th>\n",
       "      <th>round</th>\n",
       "      <th>status</th>\n",
       "    </tr>\n",
       "  </thead>\n",
       "  <tbody>\n",
       "    <tr>\n",
       "      <th>68</th>\n",
       "      <td>RAMGARH(SC)</td>\n",
       "      <td>69</td>\n",
       "      <td>DR DEVINDER KUMAR MANYAL</td>\n",
       "      <td>Bharatiya Janata Party\\ni</td>\n",
       "      <td>YASH PAUL KUNDAL</td>\n",
       "      <td>Indian National Congress\\ni</td>\n",
       "      <td>14202</td>\n",
       "      <td>10/10</td>\n",
       "      <td>Result Declared</td>\n",
       "    </tr>\n",
       "  </tbody>\n",
       "</table>\n",
       "</div>"
      ],
      "text/plain": [
       "   constituency const_no         leading_candidate              leading_party  \\\n",
       "68  RAMGARH(SC)       69  DR DEVINDER KUMAR MANYAL  Bharatiya Janata Party\\ni   \n",
       "\n",
       "   trailing_candidate               trailing_party margin  round  \\\n",
       "68   YASH PAUL KUNDAL  Indian National Congress\\ni  14202  10/10   \n",
       "\n",
       "             status  \n",
       "68  Result Declared  "
      ]
     },
     "execution_count": 45,
     "metadata": {},
     "output_type": "execute_result"
    }
   ],
   "source": [
    "df.sample()"
   ]
  },
  {
   "cell_type": "code",
   "execution_count": 47,
   "id": "844c2d54-33bb-4ab9-9d37-2790c688e1a3",
   "metadata": {},
   "outputs": [],
   "source": [
    "for column in df.columns:\n",
    "   df[column]= df[column].str.lower()"
   ]
  },
  {
   "cell_type": "code",
   "execution_count": 49,
   "id": "4864da55-3307-4355-8b60-229f23ad44a1",
   "metadata": {},
   "outputs": [
    {
     "data": {
      "text/html": [
       "<div>\n",
       "<style scoped>\n",
       "    .dataframe tbody tr th:only-of-type {\n",
       "        vertical-align: middle;\n",
       "    }\n",
       "\n",
       "    .dataframe tbody tr th {\n",
       "        vertical-align: top;\n",
       "    }\n",
       "\n",
       "    .dataframe thead th {\n",
       "        text-align: right;\n",
       "    }\n",
       "</style>\n",
       "<table border=\"1\" class=\"dataframe\">\n",
       "  <thead>\n",
       "    <tr style=\"text-align: right;\">\n",
       "      <th></th>\n",
       "      <th>constituency</th>\n",
       "      <th>const_no</th>\n",
       "      <th>leading_candidate</th>\n",
       "      <th>leading_party</th>\n",
       "      <th>trailing_candidate</th>\n",
       "      <th>trailing_party</th>\n",
       "      <th>margin</th>\n",
       "      <th>round</th>\n",
       "      <th>status</th>\n",
       "    </tr>\n",
       "  </thead>\n",
       "  <tbody>\n",
       "    <tr>\n",
       "      <th>59</th>\n",
       "      <td>pampore</td>\n",
       "      <td>32</td>\n",
       "      <td>hasnain masoodi</td>\n",
       "      <td>jammu &amp; kashmir national conference\\ni</td>\n",
       "      <td>zahoor ahmad mir</td>\n",
       "      <td>jammu &amp; kashmir peoples democratic party\\ni</td>\n",
       "      <td>2763</td>\n",
       "      <td>12/12</td>\n",
       "      <td>result declared</td>\n",
       "    </tr>\n",
       "    <tr>\n",
       "      <th>73</th>\n",
       "      <td>shopian</td>\n",
       "      <td>37</td>\n",
       "      <td>shabir ahmad kullay</td>\n",
       "      <td>independent\\ni</td>\n",
       "      <td>sheikh mohammad rafi</td>\n",
       "      <td>jammu &amp; kashmir national conference\\ni</td>\n",
       "      <td>1207</td>\n",
       "      <td>13/13</td>\n",
       "      <td>result declared</td>\n",
       "    </tr>\n",
       "    <tr>\n",
       "      <th>0</th>\n",
       "      <td>akhnoor(sc)</td>\n",
       "      <td>81</td>\n",
       "      <td>mohan lal</td>\n",
       "      <td>bharatiya janata party\\ni</td>\n",
       "      <td>ashok kumar</td>\n",
       "      <td>indian national congress\\ni</td>\n",
       "      <td>24679</td>\n",
       "      <td>15/15</td>\n",
       "      <td>result declared</td>\n",
       "    </tr>\n",
       "    <tr>\n",
       "      <th>50</th>\n",
       "      <td>lal chowk</td>\n",
       "      <td>22</td>\n",
       "      <td>sheikh ahsan ahmed</td>\n",
       "      <td>jammu &amp; kashmir national conference\\ni</td>\n",
       "      <td>mohammad ashraf mir</td>\n",
       "      <td>jammu and kashmir apni party\\ni</td>\n",
       "      <td>11343</td>\n",
       "      <td>13/13</td>\n",
       "      <td>result declared</td>\n",
       "    </tr>\n",
       "    <tr>\n",
       "      <th>18</th>\n",
       "      <td>chenani</td>\n",
       "      <td>61</td>\n",
       "      <td>balwant singh mankotia</td>\n",
       "      <td>bharatiya janata party\\ni</td>\n",
       "      <td>harsh dev singh</td>\n",
       "      <td>j&amp;k national panthers party (india)\\ni</td>\n",
       "      <td>15611</td>\n",
       "      <td>12/12</td>\n",
       "      <td>result declared</td>\n",
       "    </tr>\n",
       "  </tbody>\n",
       "</table>\n",
       "</div>"
      ],
      "text/plain": [
       "   constituency const_no       leading_candidate  \\\n",
       "59      pampore       32         hasnain masoodi   \n",
       "73      shopian       37     shabir ahmad kullay   \n",
       "0   akhnoor(sc)       81               mohan lal   \n",
       "50    lal chowk       22      sheikh ahsan ahmed   \n",
       "18      chenani       61  balwant singh mankotia   \n",
       "\n",
       "                             leading_party    trailing_candidate  \\\n",
       "59  jammu & kashmir national conference\\ni      zahoor ahmad mir   \n",
       "73                          independent\\ni  sheikh mohammad rafi   \n",
       "0                bharatiya janata party\\ni           ashok kumar   \n",
       "50  jammu & kashmir national conference\\ni   mohammad ashraf mir   \n",
       "18               bharatiya janata party\\ni       harsh dev singh   \n",
       "\n",
       "                                 trailing_party margin  round           status  \n",
       "59  jammu & kashmir peoples democratic party\\ni   2763  12/12  result declared  \n",
       "73       jammu & kashmir national conference\\ni   1207  13/13  result declared  \n",
       "0                   indian national congress\\ni  24679  15/15  result declared  \n",
       "50              jammu and kashmir apni party\\ni  11343  13/13  result declared  \n",
       "18       j&k national panthers party (india)\\ni  15611  12/12  result declared  "
      ]
     },
     "execution_count": 49,
     "metadata": {},
     "output_type": "execute_result"
    }
   ],
   "source": [
    "df.sample(5)"
   ]
  },
  {
   "cell_type": "code",
   "execution_count": 51,
   "id": "327445c0-32f2-4c3b-a0d1-ffe030d50ff4",
   "metadata": {},
   "outputs": [],
   "source": [
    "df[\"trailing_party\"]=df[\"trailing_party\"].apply(lambda value:value.replace('\\ni',''))\n",
    "df[\"leading_party\"]=df[\"leading_party\"].apply(lambda value:value.replace('\\ni',''))"
   ]
  },
  {
   "cell_type": "code",
   "execution_count": 53,
   "id": "4fb9f5ed-2709-4045-97f9-f75e61ca20b3",
   "metadata": {},
   "outputs": [
    {
     "data": {
      "text/html": [
       "<div>\n",
       "<style scoped>\n",
       "    .dataframe tbody tr th:only-of-type {\n",
       "        vertical-align: middle;\n",
       "    }\n",
       "\n",
       "    .dataframe tbody tr th {\n",
       "        vertical-align: top;\n",
       "    }\n",
       "\n",
       "    .dataframe thead th {\n",
       "        text-align: right;\n",
       "    }\n",
       "</style>\n",
       "<table border=\"1\" class=\"dataframe\">\n",
       "  <thead>\n",
       "    <tr style=\"text-align: right;\">\n",
       "      <th></th>\n",
       "      <th>constituency</th>\n",
       "      <th>const_no</th>\n",
       "      <th>leading_candidate</th>\n",
       "      <th>leading_party</th>\n",
       "      <th>trailing_candidate</th>\n",
       "      <th>trailing_party</th>\n",
       "      <th>margin</th>\n",
       "      <th>round</th>\n",
       "      <th>status</th>\n",
       "    </tr>\n",
       "  </thead>\n",
       "  <tbody>\n",
       "    <tr>\n",
       "      <th>8</th>\n",
       "      <td>basohli</td>\n",
       "      <td>65</td>\n",
       "      <td>darshan kumar</td>\n",
       "      <td>bharatiya janata party</td>\n",
       "      <td>ch. lal singh</td>\n",
       "      <td>indian national congress</td>\n",
       "      <td>16034</td>\n",
       "      <td>8/8</td>\n",
       "      <td>result declared</td>\n",
       "    </tr>\n",
       "    <tr>\n",
       "      <th>1</th>\n",
       "      <td>anantnag</td>\n",
       "      <td>44</td>\n",
       "      <td>peerzada mohammad syed</td>\n",
       "      <td>indian national congress</td>\n",
       "      <td>mehboob beg</td>\n",
       "      <td>jammu &amp; kashmir peoples democratic party</td>\n",
       "      <td>1686</td>\n",
       "      <td>9/9</td>\n",
       "      <td>result declared</td>\n",
       "    </tr>\n",
       "    <tr>\n",
       "      <th>9</th>\n",
       "      <td>beerwah</td>\n",
       "      <td>28</td>\n",
       "      <td>shafi ahmad wani</td>\n",
       "      <td>jammu &amp; kashmir national conference</td>\n",
       "      <td>nazir ahmad khan</td>\n",
       "      <td>independent</td>\n",
       "      <td>4161</td>\n",
       "      <td>16/16</td>\n",
       "      <td>result declared</td>\n",
       "    </tr>\n",
       "    <tr>\n",
       "      <th>0</th>\n",
       "      <td>akhnoor(sc)</td>\n",
       "      <td>81</td>\n",
       "      <td>mohan lal</td>\n",
       "      <td>bharatiya janata party</td>\n",
       "      <td>ashok kumar</td>\n",
       "      <td>indian national congress</td>\n",
       "      <td>24679</td>\n",
       "      <td>15/15</td>\n",
       "      <td>result declared</td>\n",
       "    </tr>\n",
       "    <tr>\n",
       "      <th>6</th>\n",
       "      <td>banihal</td>\n",
       "      <td>55</td>\n",
       "      <td>sajad shaheen</td>\n",
       "      <td>jammu &amp; kashmir national conference</td>\n",
       "      <td>imtiaz ahmed shan</td>\n",
       "      <td>jammu &amp; kashmir peoples democratic party</td>\n",
       "      <td>6110</td>\n",
       "      <td>14/14</td>\n",
       "      <td>result declared</td>\n",
       "    </tr>\n",
       "  </tbody>\n",
       "</table>\n",
       "</div>"
      ],
      "text/plain": [
       "  constituency const_no       leading_candidate  \\\n",
       "8      basohli       65           darshan kumar   \n",
       "1     anantnag       44  peerzada mohammad syed   \n",
       "9      beerwah       28        shafi ahmad wani   \n",
       "0  akhnoor(sc)       81               mohan lal   \n",
       "6      banihal       55           sajad shaheen   \n",
       "\n",
       "                         leading_party trailing_candidate  \\\n",
       "8               bharatiya janata party      ch. lal singh   \n",
       "1             indian national congress        mehboob beg   \n",
       "9  jammu & kashmir national conference   nazir ahmad khan   \n",
       "0               bharatiya janata party        ashok kumar   \n",
       "6  jammu & kashmir national conference  imtiaz ahmed shan   \n",
       "\n",
       "                             trailing_party margin  round           status  \n",
       "8                  indian national congress  16034    8/8  result declared  \n",
       "1  jammu & kashmir peoples democratic party   1686    9/9  result declared  \n",
       "9                               independent   4161  16/16  result declared  \n",
       "0                  indian national congress  24679  15/15  result declared  \n",
       "6  jammu & kashmir peoples democratic party   6110  14/14  result declared  "
      ]
     },
     "execution_count": 53,
     "metadata": {},
     "output_type": "execute_result"
    }
   ],
   "source": [
    "df.sample(5)"
   ]
  },
  {
   "cell_type": "code",
   "execution_count": 55,
   "id": "bb17bdd5-031c-4545-89a4-aa32c4fc171e",
   "metadata": {},
   "outputs": [],
   "source": [
    "#df[df[\"trailing_candidate\"].apply(lambda value : bool(re.match(r\"^(dr\\.|mr\\.|mrs\\.|smt\\.)\",value)))]"
   ]
  },
  {
   "cell_type": "code",
   "execution_count": 57,
   "id": "8617cceb-b626-460e-bff5-a9e0593669c3",
   "metadata": {},
   "outputs": [],
   "source": [
    "df[\"const_no\"]=df[\"const_no\"].astype(int)\n",
    "df[\"margin\"]=df[\"margin\"].astype(int)"
   ]
  },
  {
   "cell_type": "code",
   "execution_count": 59,
   "id": "aab7decc-ccf2-4156-a7c6-c38546e3baee",
   "metadata": {},
   "outputs": [],
   "source": [
    "df[\"round_a\"] = [ lst[0]  for lst in df[\"round\"].apply(lambda value:value.split('/'))]\n",
    "df[\"round_b\"] = [ lst[1]  for lst in df[\"round\"].apply(lambda value:value.split('/'))]"
   ]
  },
  {
   "cell_type": "code",
   "execution_count": 61,
   "id": "aa6693dc-10f3-4a2a-a63f-b17741e071ac",
   "metadata": {},
   "outputs": [],
   "source": [
    "df.drop(columns=[\"round\",\"round_b\"],inplace=True)"
   ]
  },
  {
   "cell_type": "code",
   "execution_count": 63,
   "id": "c4250447-dc8f-46d1-8774-0c13a98f8266",
   "metadata": {},
   "outputs": [],
   "source": [
    "df[\"round\"]=df[\"round_a\"]"
   ]
  },
  {
   "cell_type": "code",
   "execution_count": 65,
   "id": "27863f52-3571-4651-9b79-67fa8e7e0094",
   "metadata": {},
   "outputs": [
    {
     "data": {
      "text/html": [
       "<div>\n",
       "<style scoped>\n",
       "    .dataframe tbody tr th:only-of-type {\n",
       "        vertical-align: middle;\n",
       "    }\n",
       "\n",
       "    .dataframe tbody tr th {\n",
       "        vertical-align: top;\n",
       "    }\n",
       "\n",
       "    .dataframe thead th {\n",
       "        text-align: right;\n",
       "    }\n",
       "</style>\n",
       "<table border=\"1\" class=\"dataframe\">\n",
       "  <thead>\n",
       "    <tr style=\"text-align: right;\">\n",
       "      <th></th>\n",
       "      <th>constituency</th>\n",
       "      <th>const_no</th>\n",
       "      <th>leading_candidate</th>\n",
       "      <th>leading_party</th>\n",
       "      <th>trailing_candidate</th>\n",
       "      <th>trailing_party</th>\n",
       "      <th>margin</th>\n",
       "      <th>status</th>\n",
       "      <th>round_a</th>\n",
       "      <th>round</th>\n",
       "    </tr>\n",
       "  </thead>\n",
       "  <tbody>\n",
       "    <tr>\n",
       "      <th>0</th>\n",
       "      <td>akhnoor(sc)</td>\n",
       "      <td>81</td>\n",
       "      <td>mohan lal</td>\n",
       "      <td>bharatiya janata party</td>\n",
       "      <td>ashok kumar</td>\n",
       "      <td>indian national congress</td>\n",
       "      <td>24679</td>\n",
       "      <td>result declared</td>\n",
       "      <td>15</td>\n",
       "      <td>15</td>\n",
       "    </tr>\n",
       "    <tr>\n",
       "      <th>1</th>\n",
       "      <td>anantnag</td>\n",
       "      <td>44</td>\n",
       "      <td>peerzada mohammad syed</td>\n",
       "      <td>indian national congress</td>\n",
       "      <td>mehboob beg</td>\n",
       "      <td>jammu &amp; kashmir peoples democratic party</td>\n",
       "      <td>1686</td>\n",
       "      <td>result declared</td>\n",
       "      <td>9</td>\n",
       "      <td>9</td>\n",
       "    </tr>\n",
       "    <tr>\n",
       "      <th>2</th>\n",
       "      <td>anantnag west</td>\n",
       "      <td>43</td>\n",
       "      <td>abdul majeed bhat</td>\n",
       "      <td>jammu &amp; kashmir national conference</td>\n",
       "      <td>abdul gaffar sofi</td>\n",
       "      <td>jammu &amp; kashmir peoples democratic party</td>\n",
       "      <td>10435</td>\n",
       "      <td>result declared</td>\n",
       "      <td>14</td>\n",
       "      <td>14</td>\n",
       "    </tr>\n",
       "    <tr>\n",
       "      <th>3</th>\n",
       "      <td>bahu</td>\n",
       "      <td>75</td>\n",
       "      <td>vikram randhawa</td>\n",
       "      <td>bharatiya janata party</td>\n",
       "      <td>taranjit singh tony</td>\n",
       "      <td>indian national congress</td>\n",
       "      <td>11251</td>\n",
       "      <td>result declared</td>\n",
       "      <td>18</td>\n",
       "      <td>18</td>\n",
       "    </tr>\n",
       "    <tr>\n",
       "      <th>4</th>\n",
       "      <td>bandipora</td>\n",
       "      <td>15</td>\n",
       "      <td>nizam uddin bhat</td>\n",
       "      <td>indian national congress</td>\n",
       "      <td>usman abdul majid</td>\n",
       "      <td>independent</td>\n",
       "      <td>811</td>\n",
       "      <td>result declared</td>\n",
       "      <td>12</td>\n",
       "      <td>12</td>\n",
       "    </tr>\n",
       "    <tr>\n",
       "      <th>...</th>\n",
       "      <td>...</td>\n",
       "      <td>...</td>\n",
       "      <td>...</td>\n",
       "      <td>...</td>\n",
       "      <td>...</td>\n",
       "      <td>...</td>\n",
       "      <td>...</td>\n",
       "      <td>...</td>\n",
       "      <td>...</td>\n",
       "      <td>...</td>\n",
       "    </tr>\n",
       "    <tr>\n",
       "      <th>85</th>\n",
       "      <td>uri</td>\n",
       "      <td>9</td>\n",
       "      <td>sajjad shafi</td>\n",
       "      <td>jammu &amp; kashmir national conference</td>\n",
       "      <td>taj mohi ud din</td>\n",
       "      <td>independent</td>\n",
       "      <td>14469</td>\n",
       "      <td>result declared</td>\n",
       "      <td>11</td>\n",
       "      <td>11</td>\n",
       "    </tr>\n",
       "    <tr>\n",
       "      <th>86</th>\n",
       "      <td>vijaypur</td>\n",
       "      <td>71</td>\n",
       "      <td>chander parkash</td>\n",
       "      <td>bharatiya janata party</td>\n",
       "      <td>rajesh kumar pargotra</td>\n",
       "      <td>jammu &amp; kashmir national conference</td>\n",
       "      <td>19040</td>\n",
       "      <td>result declared</td>\n",
       "      <td>9</td>\n",
       "      <td>9</td>\n",
       "    </tr>\n",
       "    <tr>\n",
       "      <th>87</th>\n",
       "      <td>wagoora - kreeri</td>\n",
       "      <td>12</td>\n",
       "      <td>irfan hafiz lone</td>\n",
       "      <td>indian national congress</td>\n",
       "      <td>syed basharat ahmed bukhari</td>\n",
       "      <td>jammu &amp; kashmir peoples democratic party</td>\n",
       "      <td>7751</td>\n",
       "      <td>result declared</td>\n",
       "      <td>12</td>\n",
       "      <td>12</td>\n",
       "    </tr>\n",
       "    <tr>\n",
       "      <th>88</th>\n",
       "      <td>zadibal</td>\n",
       "      <td>24</td>\n",
       "      <td>tanvir sadiq</td>\n",
       "      <td>jammu &amp; kashmir national conference</td>\n",
       "      <td>abid hussain ansari</td>\n",
       "      <td>jammu &amp; kashmir people conference</td>\n",
       "      <td>16173</td>\n",
       "      <td>result declared</td>\n",
       "      <td>12</td>\n",
       "      <td>12</td>\n",
       "    </tr>\n",
       "    <tr>\n",
       "      <th>89</th>\n",
       "      <td>zainapora</td>\n",
       "      <td>36</td>\n",
       "      <td>showkat hussain ganie</td>\n",
       "      <td>jammu &amp; kashmir national conference</td>\n",
       "      <td>aijaz ahmad mir</td>\n",
       "      <td>independent</td>\n",
       "      <td>13233</td>\n",
       "      <td>result declared</td>\n",
       "      <td>16</td>\n",
       "      <td>16</td>\n",
       "    </tr>\n",
       "  </tbody>\n",
       "</table>\n",
       "<p>90 rows × 10 columns</p>\n",
       "</div>"
      ],
      "text/plain": [
       "        constituency  const_no       leading_candidate  \\\n",
       "0        akhnoor(sc)        81               mohan lal   \n",
       "1           anantnag        44  peerzada mohammad syed   \n",
       "2      anantnag west        43       abdul majeed bhat   \n",
       "3               bahu        75         vikram randhawa   \n",
       "4          bandipora        15        nizam uddin bhat   \n",
       "..               ...       ...                     ...   \n",
       "85               uri         9            sajjad shafi   \n",
       "86          vijaypur        71         chander parkash   \n",
       "87  wagoora - kreeri        12        irfan hafiz lone   \n",
       "88           zadibal        24            tanvir sadiq   \n",
       "89         zainapora        36   showkat hussain ganie   \n",
       "\n",
       "                          leading_party           trailing_candidate  \\\n",
       "0                bharatiya janata party                  ashok kumar   \n",
       "1              indian national congress                  mehboob beg   \n",
       "2   jammu & kashmir national conference            abdul gaffar sofi   \n",
       "3                bharatiya janata party          taranjit singh tony   \n",
       "4              indian national congress            usman abdul majid   \n",
       "..                                  ...                          ...   \n",
       "85  jammu & kashmir national conference              taj mohi ud din   \n",
       "86               bharatiya janata party        rajesh kumar pargotra   \n",
       "87             indian national congress  syed basharat ahmed bukhari   \n",
       "88  jammu & kashmir national conference          abid hussain ansari   \n",
       "89  jammu & kashmir national conference              aijaz ahmad mir   \n",
       "\n",
       "                              trailing_party  margin           status round_a  \\\n",
       "0                   indian national congress   24679  result declared      15   \n",
       "1   jammu & kashmir peoples democratic party    1686  result declared       9   \n",
       "2   jammu & kashmir peoples democratic party   10435  result declared      14   \n",
       "3                   indian national congress   11251  result declared      18   \n",
       "4                                independent     811  result declared      12   \n",
       "..                                       ...     ...              ...     ...   \n",
       "85                               independent   14469  result declared      11   \n",
       "86       jammu & kashmir national conference   19040  result declared       9   \n",
       "87  jammu & kashmir peoples democratic party    7751  result declared      12   \n",
       "88         jammu & kashmir people conference   16173  result declared      12   \n",
       "89                               independent   13233  result declared      16   \n",
       "\n",
       "   round  \n",
       "0     15  \n",
       "1      9  \n",
       "2     14  \n",
       "3     18  \n",
       "4     12  \n",
       "..   ...  \n",
       "85    11  \n",
       "86     9  \n",
       "87    12  \n",
       "88    12  \n",
       "89    16  \n",
       "\n",
       "[90 rows x 10 columns]"
      ]
     },
     "execution_count": 65,
     "metadata": {},
     "output_type": "execute_result"
    }
   ],
   "source": [
    "df"
   ]
  },
  {
   "cell_type": "code",
   "execution_count": 67,
   "id": "62309484-e30e-4df1-81c7-0ae2405b88a4",
   "metadata": {},
   "outputs": [],
   "source": [
    "df[\"constituency\"]=df[\"constituency\"].apply(lambda value: value.replace('.',''))"
   ]
  },
  {
   "cell_type": "code",
   "execution_count": 69,
   "id": "c763fefe-7d4e-41fe-85b1-300112a29ab2",
   "metadata": {},
   "outputs": [
    {
     "data": {
      "text/html": [
       "<div>\n",
       "<style scoped>\n",
       "    .dataframe tbody tr th:only-of-type {\n",
       "        vertical-align: middle;\n",
       "    }\n",
       "\n",
       "    .dataframe tbody tr th {\n",
       "        vertical-align: top;\n",
       "    }\n",
       "\n",
       "    .dataframe thead th {\n",
       "        text-align: right;\n",
       "    }\n",
       "</style>\n",
       "<table border=\"1\" class=\"dataframe\">\n",
       "  <thead>\n",
       "    <tr style=\"text-align: right;\">\n",
       "      <th></th>\n",
       "      <th>constituency</th>\n",
       "      <th>const_no</th>\n",
       "      <th>leading_candidate</th>\n",
       "      <th>leading_party</th>\n",
       "      <th>trailing_candidate</th>\n",
       "      <th>trailing_party</th>\n",
       "      <th>margin</th>\n",
       "      <th>status</th>\n",
       "      <th>round_a</th>\n",
       "      <th>round</th>\n",
       "    </tr>\n",
       "  </thead>\n",
       "  <tbody>\n",
       "    <tr>\n",
       "      <th>35</th>\n",
       "      <td>inderwal</td>\n",
       "      <td>48</td>\n",
       "      <td>payare lal sharma</td>\n",
       "      <td>independent</td>\n",
       "      <td>ghulam mohd saroori</td>\n",
       "      <td>independent</td>\n",
       "      <td>643</td>\n",
       "      <td>result declared</td>\n",
       "      <td>12</td>\n",
       "      <td>12</td>\n",
       "    </tr>\n",
       "    <tr>\n",
       "      <th>63</th>\n",
       "      <td>r s pura- jammu south</td>\n",
       "      <td>74</td>\n",
       "      <td>dr. narinder singh raina</td>\n",
       "      <td>bharatiya janata party</td>\n",
       "      <td>raman bhalla</td>\n",
       "      <td>indian national congress</td>\n",
       "      <td>1966</td>\n",
       "      <td>result declared</td>\n",
       "      <td>17</td>\n",
       "      <td>17</td>\n",
       "    </tr>\n",
       "    <tr>\n",
       "      <th>42</th>\n",
       "      <td>karnah</td>\n",
       "      <td>1</td>\n",
       "      <td>javaid ahmad mirchal</td>\n",
       "      <td>jammu &amp; kashmir national conference</td>\n",
       "      <td>naseer ahmad awan</td>\n",
       "      <td>jammu &amp; kashmir people conference</td>\n",
       "      <td>6262</td>\n",
       "      <td>result declared</td>\n",
       "      <td>8</td>\n",
       "      <td>8</td>\n",
       "    </tr>\n",
       "    <tr>\n",
       "      <th>56</th>\n",
       "      <td>nowshera</td>\n",
       "      <td>84</td>\n",
       "      <td>surinder kumar choudhary</td>\n",
       "      <td>jammu &amp; kashmir national conference</td>\n",
       "      <td>ravinder raina</td>\n",
       "      <td>bharatiya janata party</td>\n",
       "      <td>7819</td>\n",
       "      <td>result declared</td>\n",
       "      <td>10</td>\n",
       "      <td>10</td>\n",
       "    </tr>\n",
       "    <tr>\n",
       "      <th>75</th>\n",
       "      <td>sonawari</td>\n",
       "      <td>14</td>\n",
       "      <td>hilal akbar lone</td>\n",
       "      <td>jammu &amp; kashmir national conference</td>\n",
       "      <td>yasir reshi</td>\n",
       "      <td>independent</td>\n",
       "      <td>13744</td>\n",
       "      <td>result declared</td>\n",
       "      <td>12</td>\n",
       "      <td>12</td>\n",
       "    </tr>\n",
       "  </tbody>\n",
       "</table>\n",
       "</div>"
      ],
      "text/plain": [
       "             constituency  const_no         leading_candidate  \\\n",
       "35               inderwal        48         payare lal sharma   \n",
       "63  r s pura- jammu south        74  dr. narinder singh raina   \n",
       "42                 karnah         1      javaid ahmad mirchal   \n",
       "56               nowshera        84  surinder kumar choudhary   \n",
       "75               sonawari        14          hilal akbar lone   \n",
       "\n",
       "                          leading_party   trailing_candidate  \\\n",
       "35                          independent  ghulam mohd saroori   \n",
       "63               bharatiya janata party         raman bhalla   \n",
       "42  jammu & kashmir national conference    naseer ahmad awan   \n",
       "56  jammu & kashmir national conference       ravinder raina   \n",
       "75  jammu & kashmir national conference          yasir reshi   \n",
       "\n",
       "                       trailing_party  margin           status round_a round  \n",
       "35                        independent     643  result declared      12    12  \n",
       "63           indian national congress    1966  result declared      17    17  \n",
       "42  jammu & kashmir people conference    6262  result declared       8     8  \n",
       "56             bharatiya janata party    7819  result declared      10    10  \n",
       "75                        independent   13744  result declared      12    12  "
      ]
     },
     "execution_count": 69,
     "metadata": {},
     "output_type": "execute_result"
    }
   ],
   "source": [
    "df.sample(5)"
   ]
  },
  {
   "cell_type": "code",
   "execution_count": 71,
   "id": "d2047096-157f-4d8f-97a3-e38e542a8fa9",
   "metadata": {},
   "outputs": [
    {
     "name": "stdout",
     "output_type": "stream",
     "text": [
      "<class 'pandas.core.frame.DataFrame'>\n",
      "RangeIndex: 90 entries, 0 to 89\n",
      "Data columns (total 10 columns):\n",
      " #   Column              Non-Null Count  Dtype \n",
      "---  ------              --------------  ----- \n",
      " 0   constituency        90 non-null     object\n",
      " 1   const_no            90 non-null     int32 \n",
      " 2   leading_candidate   90 non-null     object\n",
      " 3   leading_party       90 non-null     object\n",
      " 4   trailing_candidate  90 non-null     object\n",
      " 5   trailing_party      90 non-null     object\n",
      " 6   margin              90 non-null     int32 \n",
      " 7   status              90 non-null     object\n",
      " 8   round_a             90 non-null     object\n",
      " 9   round               90 non-null     object\n",
      "dtypes: int32(2), object(8)\n",
      "memory usage: 6.5+ KB\n"
     ]
    }
   ],
   "source": [
    "df.info()"
   ]
  },
  {
   "cell_type": "code",
   "execution_count": 73,
   "id": "07e1c07f-f6fa-46b1-bfbd-55f2c2f56f58",
   "metadata": {},
   "outputs": [],
   "source": [
    "df[\"round\"]=df[\"round\"].astype(int)"
   ]
  },
  {
   "cell_type": "code",
   "execution_count": 75,
   "id": "41ad610a-b61f-4f6a-8c62-0d28d69bec45",
   "metadata": {},
   "outputs": [
    {
     "name": "stdout",
     "output_type": "stream",
     "text": [
      "<class 'pandas.core.frame.DataFrame'>\n",
      "RangeIndex: 90 entries, 0 to 89\n",
      "Data columns (total 10 columns):\n",
      " #   Column              Non-Null Count  Dtype \n",
      "---  ------              --------------  ----- \n",
      " 0   constituency        90 non-null     object\n",
      " 1   const_no            90 non-null     int32 \n",
      " 2   leading_candidate   90 non-null     object\n",
      " 3   leading_party       90 non-null     object\n",
      " 4   trailing_candidate  90 non-null     object\n",
      " 5   trailing_party      90 non-null     object\n",
      " 6   margin              90 non-null     int32 \n",
      " 7   status              90 non-null     object\n",
      " 8   round_a             90 non-null     object\n",
      " 9   round               90 non-null     int32 \n",
      "dtypes: int32(3), object(7)\n",
      "memory usage: 6.1+ KB\n"
     ]
    }
   ],
   "source": [
    "df.info()"
   ]
  },
  {
   "cell_type": "code",
   "execution_count": 77,
   "id": "bf416234-7c14-43ec-9c24-c93ba099e50d",
   "metadata": {},
   "outputs": [],
   "source": [
    "df.drop(columns='round_a',inplace=True)"
   ]
  },
  {
   "cell_type": "code",
   "execution_count": 79,
   "id": "a10ff41a-f111-4476-a16a-7a7d9be57512",
   "metadata": {},
   "outputs": [
    {
     "data": {
      "text/html": [
       "<div>\n",
       "<style scoped>\n",
       "    .dataframe tbody tr th:only-of-type {\n",
       "        vertical-align: middle;\n",
       "    }\n",
       "\n",
       "    .dataframe tbody tr th {\n",
       "        vertical-align: top;\n",
       "    }\n",
       "\n",
       "    .dataframe thead th {\n",
       "        text-align: right;\n",
       "    }\n",
       "</style>\n",
       "<table border=\"1\" class=\"dataframe\">\n",
       "  <thead>\n",
       "    <tr style=\"text-align: right;\">\n",
       "      <th></th>\n",
       "      <th>constituency</th>\n",
       "      <th>const_no</th>\n",
       "      <th>leading_candidate</th>\n",
       "      <th>leading_party</th>\n",
       "      <th>trailing_candidate</th>\n",
       "      <th>trailing_party</th>\n",
       "      <th>margin</th>\n",
       "      <th>status</th>\n",
       "      <th>round</th>\n",
       "    </tr>\n",
       "  </thead>\n",
       "  <tbody>\n",
       "    <tr>\n",
       "      <th>0</th>\n",
       "      <td>akhnoor(sc)</td>\n",
       "      <td>81</td>\n",
       "      <td>mohan lal</td>\n",
       "      <td>bharatiya janata party</td>\n",
       "      <td>ashok kumar</td>\n",
       "      <td>indian national congress</td>\n",
       "      <td>24679</td>\n",
       "      <td>result declared</td>\n",
       "      <td>15</td>\n",
       "    </tr>\n",
       "    <tr>\n",
       "      <th>1</th>\n",
       "      <td>anantnag</td>\n",
       "      <td>44</td>\n",
       "      <td>peerzada mohammad syed</td>\n",
       "      <td>indian national congress</td>\n",
       "      <td>mehboob beg</td>\n",
       "      <td>jammu &amp; kashmir peoples democratic party</td>\n",
       "      <td>1686</td>\n",
       "      <td>result declared</td>\n",
       "      <td>9</td>\n",
       "    </tr>\n",
       "    <tr>\n",
       "      <th>2</th>\n",
       "      <td>anantnag west</td>\n",
       "      <td>43</td>\n",
       "      <td>abdul majeed bhat</td>\n",
       "      <td>jammu &amp; kashmir national conference</td>\n",
       "      <td>abdul gaffar sofi</td>\n",
       "      <td>jammu &amp; kashmir peoples democratic party</td>\n",
       "      <td>10435</td>\n",
       "      <td>result declared</td>\n",
       "      <td>14</td>\n",
       "    </tr>\n",
       "    <tr>\n",
       "      <th>3</th>\n",
       "      <td>bahu</td>\n",
       "      <td>75</td>\n",
       "      <td>vikram randhawa</td>\n",
       "      <td>bharatiya janata party</td>\n",
       "      <td>taranjit singh tony</td>\n",
       "      <td>indian national congress</td>\n",
       "      <td>11251</td>\n",
       "      <td>result declared</td>\n",
       "      <td>18</td>\n",
       "    </tr>\n",
       "    <tr>\n",
       "      <th>4</th>\n",
       "      <td>bandipora</td>\n",
       "      <td>15</td>\n",
       "      <td>nizam uddin bhat</td>\n",
       "      <td>indian national congress</td>\n",
       "      <td>usman abdul majid</td>\n",
       "      <td>independent</td>\n",
       "      <td>811</td>\n",
       "      <td>result declared</td>\n",
       "      <td>12</td>\n",
       "    </tr>\n",
       "    <tr>\n",
       "      <th>...</th>\n",
       "      <td>...</td>\n",
       "      <td>...</td>\n",
       "      <td>...</td>\n",
       "      <td>...</td>\n",
       "      <td>...</td>\n",
       "      <td>...</td>\n",
       "      <td>...</td>\n",
       "      <td>...</td>\n",
       "      <td>...</td>\n",
       "    </tr>\n",
       "    <tr>\n",
       "      <th>85</th>\n",
       "      <td>uri</td>\n",
       "      <td>9</td>\n",
       "      <td>sajjad shafi</td>\n",
       "      <td>jammu &amp; kashmir national conference</td>\n",
       "      <td>taj mohi ud din</td>\n",
       "      <td>independent</td>\n",
       "      <td>14469</td>\n",
       "      <td>result declared</td>\n",
       "      <td>11</td>\n",
       "    </tr>\n",
       "    <tr>\n",
       "      <th>86</th>\n",
       "      <td>vijaypur</td>\n",
       "      <td>71</td>\n",
       "      <td>chander parkash</td>\n",
       "      <td>bharatiya janata party</td>\n",
       "      <td>rajesh kumar pargotra</td>\n",
       "      <td>jammu &amp; kashmir national conference</td>\n",
       "      <td>19040</td>\n",
       "      <td>result declared</td>\n",
       "      <td>9</td>\n",
       "    </tr>\n",
       "    <tr>\n",
       "      <th>87</th>\n",
       "      <td>wagoora - kreeri</td>\n",
       "      <td>12</td>\n",
       "      <td>irfan hafiz lone</td>\n",
       "      <td>indian national congress</td>\n",
       "      <td>syed basharat ahmed bukhari</td>\n",
       "      <td>jammu &amp; kashmir peoples democratic party</td>\n",
       "      <td>7751</td>\n",
       "      <td>result declared</td>\n",
       "      <td>12</td>\n",
       "    </tr>\n",
       "    <tr>\n",
       "      <th>88</th>\n",
       "      <td>zadibal</td>\n",
       "      <td>24</td>\n",
       "      <td>tanvir sadiq</td>\n",
       "      <td>jammu &amp; kashmir national conference</td>\n",
       "      <td>abid hussain ansari</td>\n",
       "      <td>jammu &amp; kashmir people conference</td>\n",
       "      <td>16173</td>\n",
       "      <td>result declared</td>\n",
       "      <td>12</td>\n",
       "    </tr>\n",
       "    <tr>\n",
       "      <th>89</th>\n",
       "      <td>zainapora</td>\n",
       "      <td>36</td>\n",
       "      <td>showkat hussain ganie</td>\n",
       "      <td>jammu &amp; kashmir national conference</td>\n",
       "      <td>aijaz ahmad mir</td>\n",
       "      <td>independent</td>\n",
       "      <td>13233</td>\n",
       "      <td>result declared</td>\n",
       "      <td>16</td>\n",
       "    </tr>\n",
       "  </tbody>\n",
       "</table>\n",
       "<p>90 rows × 9 columns</p>\n",
       "</div>"
      ],
      "text/plain": [
       "        constituency  const_no       leading_candidate  \\\n",
       "0        akhnoor(sc)        81               mohan lal   \n",
       "1           anantnag        44  peerzada mohammad syed   \n",
       "2      anantnag west        43       abdul majeed bhat   \n",
       "3               bahu        75         vikram randhawa   \n",
       "4          bandipora        15        nizam uddin bhat   \n",
       "..               ...       ...                     ...   \n",
       "85               uri         9            sajjad shafi   \n",
       "86          vijaypur        71         chander parkash   \n",
       "87  wagoora - kreeri        12        irfan hafiz lone   \n",
       "88           zadibal        24            tanvir sadiq   \n",
       "89         zainapora        36   showkat hussain ganie   \n",
       "\n",
       "                          leading_party           trailing_candidate  \\\n",
       "0                bharatiya janata party                  ashok kumar   \n",
       "1              indian national congress                  mehboob beg   \n",
       "2   jammu & kashmir national conference            abdul gaffar sofi   \n",
       "3                bharatiya janata party          taranjit singh tony   \n",
       "4              indian national congress            usman abdul majid   \n",
       "..                                  ...                          ...   \n",
       "85  jammu & kashmir national conference              taj mohi ud din   \n",
       "86               bharatiya janata party        rajesh kumar pargotra   \n",
       "87             indian national congress  syed basharat ahmed bukhari   \n",
       "88  jammu & kashmir national conference          abid hussain ansari   \n",
       "89  jammu & kashmir national conference              aijaz ahmad mir   \n",
       "\n",
       "                              trailing_party  margin           status  round  \n",
       "0                   indian national congress   24679  result declared     15  \n",
       "1   jammu & kashmir peoples democratic party    1686  result declared      9  \n",
       "2   jammu & kashmir peoples democratic party   10435  result declared     14  \n",
       "3                   indian national congress   11251  result declared     18  \n",
       "4                                independent     811  result declared     12  \n",
       "..                                       ...     ...              ...    ...  \n",
       "85                               independent   14469  result declared     11  \n",
       "86       jammu & kashmir national conference   19040  result declared      9  \n",
       "87  jammu & kashmir peoples democratic party    7751  result declared     12  \n",
       "88         jammu & kashmir people conference   16173  result declared     12  \n",
       "89                               independent   13233  result declared     16  \n",
       "\n",
       "[90 rows x 9 columns]"
      ]
     },
     "execution_count": 79,
     "metadata": {},
     "output_type": "execute_result"
    }
   ],
   "source": [
    "df"
   ]
  },
  {
   "cell_type": "code",
   "execution_count": 81,
   "id": "ef40fe68-4d7f-4559-bbf8-5c0fdcb75f0a",
   "metadata": {},
   "outputs": [
    {
     "data": {
      "text/plain": [
       "leading_party\n",
       "jammu & kashmir national conference         42\n",
       "bharatiya janata party                      29\n",
       "independent                                  7\n",
       "indian national congress                     6\n",
       "jammu & kashmir peoples democratic party     3\n",
       "aam aadmi party                              1\n",
       "jammu & kashmir people conference            1\n",
       "communist party of india (marxist)           1\n",
       "Name: count, dtype: int64"
      ]
     },
     "execution_count": 81,
     "metadata": {},
     "output_type": "execute_result"
    }
   ],
   "source": [
    "df[\"leading_party\"].value_counts()"
   ]
  },
  {
   "cell_type": "code",
   "execution_count": 83,
   "id": "1c4e9235-b3b9-46e5-80f8-5f8d2e3e3858",
   "metadata": {},
   "outputs": [],
   "source": [
    "#Majority \n",
    "Majority  = int(df.shape[0]/2)+1\n",
    "df_total_cnt=df[\"leading_party\"].value_counts()"
   ]
  },
  {
   "cell_type": "code",
   "execution_count": 85,
   "id": "9869c1fb-eed1-413d-abb6-b606b5fd6b95",
   "metadata": {},
   "outputs": [
    {
     "data": {
      "text/plain": [
       "Series([], Name: count, dtype: int64)"
      ]
     },
     "execution_count": 85,
     "metadata": {},
     "output_type": "execute_result"
    }
   ],
   "source": [
    "df_total_cnt[df_total_cnt>=Majority]"
   ]
  },
  {
   "cell_type": "code",
   "execution_count": null,
   "id": "6866a658-596d-48a4-8c64-995fef580735",
   "metadata": {},
   "outputs": [],
   "source": []
  },
  {
   "cell_type": "code",
   "execution_count": null,
   "id": "65ce837d-60a9-41ae-b985-b5337ade62a3",
   "metadata": {},
   "outputs": [],
   "source": []
  },
  {
   "cell_type": "code",
   "execution_count": 89,
   "id": "38cf124c-26c7-4cac-bb55-2c105a36f06c",
   "metadata": {},
   "outputs": [
    {
     "data": {
      "text/html": [
       "<div>\n",
       "<style scoped>\n",
       "    .dataframe tbody tr th:only-of-type {\n",
       "        vertical-align: middle;\n",
       "    }\n",
       "\n",
       "    .dataframe tbody tr th {\n",
       "        vertical-align: top;\n",
       "    }\n",
       "\n",
       "    .dataframe thead th {\n",
       "        text-align: right;\n",
       "    }\n",
       "</style>\n",
       "<table border=\"1\" class=\"dataframe\">\n",
       "  <thead>\n",
       "    <tr style=\"text-align: right;\">\n",
       "      <th></th>\n",
       "      <th>constituency</th>\n",
       "      <th>round</th>\n",
       "      <th>leading_party</th>\n",
       "      <th>leading_candidate</th>\n",
       "    </tr>\n",
       "  </thead>\n",
       "  <tbody>\n",
       "    <tr>\n",
       "      <th>61</th>\n",
       "      <td>poonch haveli</td>\n",
       "      <td>24</td>\n",
       "      <td>jammu &amp; kashmir national conference</td>\n",
       "      <td>ajaz ahmed jan</td>\n",
       "    </tr>\n",
       "  </tbody>\n",
       "</table>\n",
       "</div>"
      ],
      "text/plain": [
       "     constituency  round                        leading_party  \\\n",
       "61  poonch haveli     24  jammu & kashmir national conference   \n",
       "\n",
       "   leading_candidate  \n",
       "61    ajaz ahmed jan  "
      ]
     },
     "execution_count": 89,
     "metadata": {},
     "output_type": "execute_result"
    }
   ],
   "source": [
    "df[[\"constituency\",\"round\",\"leading_party\",\"leading_candidate\"]][df[\"round\"]==df[\"round\"].max()].sort_values(\"leading_party\")"
   ]
  },
  {
   "cell_type": "code",
   "execution_count": 91,
   "id": "50843c3d-f0c6-406c-82c0-7fc9c76d61fa",
   "metadata": {},
   "outputs": [
    {
     "data": {
      "text/plain": [
       "90"
      ]
     },
     "execution_count": 91,
     "metadata": {},
     "output_type": "execute_result"
    }
   ],
   "source": [
    "#Seat Percentage\n",
    "df.shape[0]"
   ]
  },
  {
   "cell_type": "code",
   "execution_count": 93,
   "id": "25e9b71c-646f-4173-bfae-2042b84df6ea",
   "metadata": {},
   "outputs": [
    {
     "data": {
      "text/plain": [
       "array([46.67, 32.22,  7.78,  6.67,  3.33,  1.11,  1.11,  1.11])"
      ]
     },
     "execution_count": 93,
     "metadata": {},
     "output_type": "execute_result"
    }
   ],
   "source": [
    "leading_party_values = df[\"leading_party\"].value_counts().values/df.shape[0]*100\n",
    "leading_party_values=leading_party_values.round(2)\n",
    "leading_party_values"
   ]
  },
  {
   "cell_type": "code",
   "execution_count": 95,
   "id": "8e8a0e07-532d-4642-96bc-c2325cae7289",
   "metadata": {},
   "outputs": [
    {
     "data": {
      "text/plain": [
       "Index(['jammu & kashmir national conference', 'bharatiya janata party',\n",
       "       'independent', 'indian national congress',\n",
       "       'jammu & kashmir peoples democratic party', 'aam aadmi party',\n",
       "       'jammu & kashmir people conference',\n",
       "       'communist party of india (marxist)'],\n",
       "      dtype='object', name='leading_party')"
      ]
     },
     "execution_count": 95,
     "metadata": {},
     "output_type": "execute_result"
    }
   ],
   "source": [
    "df[\"leading_party\"].value_counts().index"
   ]
  },
  {
   "cell_type": "code",
   "execution_count": 97,
   "id": "18c806ba-e8ec-4cee-92e2-3544138a57a7",
   "metadata": {},
   "outputs": [
    {
     "data": {
      "text/html": [
       "<div>\n",
       "<style scoped>\n",
       "    .dataframe tbody tr th:only-of-type {\n",
       "        vertical-align: middle;\n",
       "    }\n",
       "\n",
       "    .dataframe tbody tr th {\n",
       "        vertical-align: top;\n",
       "    }\n",
       "\n",
       "    .dataframe thead th {\n",
       "        text-align: right;\n",
       "    }\n",
       "</style>\n",
       "<table border=\"1\" class=\"dataframe\">\n",
       "  <thead>\n",
       "    <tr style=\"text-align: right;\">\n",
       "      <th></th>\n",
       "      <th>party</th>\n",
       "      <th>Seat_share_%</th>\n",
       "    </tr>\n",
       "  </thead>\n",
       "  <tbody>\n",
       "    <tr>\n",
       "      <th>0</th>\n",
       "      <td>jammu &amp; kashmir national conference</td>\n",
       "      <td>46.67</td>\n",
       "    </tr>\n",
       "    <tr>\n",
       "      <th>1</th>\n",
       "      <td>bharatiya janata party</td>\n",
       "      <td>32.22</td>\n",
       "    </tr>\n",
       "    <tr>\n",
       "      <th>2</th>\n",
       "      <td>independent</td>\n",
       "      <td>7.78</td>\n",
       "    </tr>\n",
       "    <tr>\n",
       "      <th>3</th>\n",
       "      <td>indian national congress</td>\n",
       "      <td>6.67</td>\n",
       "    </tr>\n",
       "    <tr>\n",
       "      <th>4</th>\n",
       "      <td>jammu &amp; kashmir peoples democratic party</td>\n",
       "      <td>3.33</td>\n",
       "    </tr>\n",
       "    <tr>\n",
       "      <th>5</th>\n",
       "      <td>aam aadmi party</td>\n",
       "      <td>1.11</td>\n",
       "    </tr>\n",
       "    <tr>\n",
       "      <th>6</th>\n",
       "      <td>jammu &amp; kashmir people conference</td>\n",
       "      <td>1.11</td>\n",
       "    </tr>\n",
       "    <tr>\n",
       "      <th>7</th>\n",
       "      <td>communist party of india (marxist)</td>\n",
       "      <td>1.11</td>\n",
       "    </tr>\n",
       "  </tbody>\n",
       "</table>\n",
       "</div>"
      ],
      "text/plain": [
       "                                      party  Seat_share_%\n",
       "0       jammu & kashmir national conference         46.67\n",
       "1                    bharatiya janata party         32.22\n",
       "2                               independent          7.78\n",
       "3                  indian national congress          6.67\n",
       "4  jammu & kashmir peoples democratic party          3.33\n",
       "5                           aam aadmi party          1.11\n",
       "6         jammu & kashmir people conference          1.11\n",
       "7        communist party of india (marxist)          1.11"
      ]
     },
     "execution_count": 97,
     "metadata": {},
     "output_type": "execute_result"
    }
   ],
   "source": [
    "pd.DataFrame({\n",
    "\"party\":df[\"leading_party\"].value_counts().index,\n",
    " \"Seat_share_%\":leading_party_values\n",
    "    \n",
    "}\n",
    "            )"
   ]
  },
  {
   "cell_type": "code",
   "execution_count": 99,
   "id": "29ea8562-d02f-4f2a-9b0b-ca21a0ed95ae",
   "metadata": {},
   "outputs": [
    {
     "data": {
      "text/plain": [
       "0     24679\n",
       "1      1686\n",
       "2     10435\n",
       "3     11251\n",
       "4       811\n",
       "      ...  \n",
       "85    14469\n",
       "86    19040\n",
       "87     7751\n",
       "88    16173\n",
       "89    13233\n",
       "Name: margin, Length: 90, dtype: int32"
      ]
     },
     "execution_count": 99,
     "metadata": {},
     "output_type": "execute_result"
    }
   ],
   "source": [
    "df[\"margin\"]"
   ]
  },
  {
   "cell_type": "code",
   "execution_count": null,
   "id": "df60b289-fd72-4d15-b2a4-678107734903",
   "metadata": {},
   "outputs": [],
   "source": []
  },
  {
   "cell_type": "code",
   "execution_count": 79,
   "id": "241d5c4e-7da7-4f4f-80de-acd0bd74b203",
   "metadata": {},
   "outputs": [
    {
     "name": "stdin",
     "output_type": "stream",
     "text": [
      "Enter Your Age and Nationality: 18 Indian\n"
     ]
    }
   ],
   "source": [
    "var = input('Enter Your Age and Nationality:')"
   ]
  },
  {
   "cell_type": "markdown",
   "id": "2a8dda56-69d0-48bf-af88-a29b20b12a52",
   "metadata": {},
   "source": [
    " var.split()\n"
   ]
  },
  {
   "cell_type": "code",
   "execution_count": 84,
   "id": "8e5436a5-5cec-4399-a79c-4e4128b728da",
   "metadata": {},
   "outputs": [
    {
     "data": {
      "text/plain": [
       "'Indian'"
      ]
     },
     "execution_count": 84,
     "metadata": {},
     "output_type": "execute_result"
    }
   ],
   "source": []
  },
  {
   "cell_type": "code",
   "execution_count": 86,
   "id": "40593b99-b291-4716-93f0-aef61cd96468",
   "metadata": {},
   "outputs": [
    {
     "name": "stdout",
     "output_type": "stream",
     "text": [
      " You're Eligible to Vote\n"
     ]
    }
   ],
   "source": [
    "if 18<=int(var.split()[0]) and (\"\").join(var.split()[1:]).lower()=='indian':\n",
    "    print(\" You're Eligible to Vote\")\n",
    "else:\n",
    "    print(\"You're Not Eligible\")\n"
   ]
  },
  {
   "cell_type": "code",
   "execution_count": null,
   "id": "0b7a8554-0ae0-4095-aa3e-f99e45a82413",
   "metadata": {},
   "outputs": [],
   "source": []
  },
  {
   "cell_type": "code",
   "execution_count": 126,
   "id": "eb6b3d46-898d-4d6b-a21f-1b534c02bfb1",
   "metadata": {},
   "outputs": [
    {
     "name": "stdout",
     "output_type": "stream",
     "text": [
      "fail\n"
     ]
    }
   ],
   "source": [
    "if 5 == True:\n",
    "    print('pass')\n",
    "else:\n",
    "    print('fail')"
   ]
  },
  {
   "cell_type": "code",
   "execution_count": null,
   "id": "20b274cb-5185-4a71-a84e-0cec6b879ad2",
   "metadata": {},
   "outputs": [],
   "source": []
  }
 ],
 "metadata": {
  "kernelspec": {
   "display_name": "Python 3 (ipykernel)",
   "language": "python",
   "name": "python3"
  },
  "language_info": {
   "codemirror_mode": {
    "name": "ipython",
    "version": 3
   },
   "file_extension": ".py",
   "mimetype": "text/x-python",
   "name": "python",
   "nbconvert_exporter": "python",
   "pygments_lexer": "ipython3",
   "version": "3.12.4"
  }
 },
 "nbformat": 4,
 "nbformat_minor": 5
}
